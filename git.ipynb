{
 "cells": [
  {
   "cell_type": "code",
   "execution_count": 21,
   "metadata": {},
   "outputs": [],
   "source": [
    "import pickle\n",
    "import sys\n",
    "import os\n",
    "import emoji"
   ]
  },
  {
   "cell_type": "code",
   "execution_count": 22,
   "metadata": {},
   "outputs": [],
   "source": [
    "all_repos=[]\n",
    "user_repo_link = \"https://github.com/99ashr/\"\n",
    "remote = \"git remote add origin\"\n",
    "repo_name=input(\"Enter the name of your repo!\\nHere:\\t\")"
   ]
  },
  {
   "cell_type": "code",
   "execution_count": 23,
   "metadata": {},
   "outputs": [],
   "source": [
    "def readfunc():\n",
    "    with open(\"myRepos.txt\", \"rb\") as filehandle:\n",
    "        try:\n",
    "            while True:\n",
    "                all_repos.append(pickle.load(filehandle))\n",
    "        except EOFError:\n",
    "            pass\n",
    "        return(all_repos[-1])"
   ]
  },
  {
   "cell_type": "code",
   "execution_count": 24,
   "metadata": {},
   "outputs": [],
   "source": [
    "def writefunc():\n",
    "    with open(\"myRepos.txt\", \"ab\") as filehandle:\n",
    "        pickle.dump(repo_name, filehandle)"
   ]
  },
  {
   "cell_type": "code",
   "execution_count": 25,
   "metadata": {},
   "outputs": [],
   "source": [
    "if repo_name == '':\n",
    "    try:\n",
    "        readfunc()\n",
    "    except FileNotFoundError:\n",
    "        print(\"please enter the name manually!\")\n",
    "        # sys.stdout.flush()\n",
    "        # os._exit(0)\n",
    "if repo_name != '':\n",
    "    writefunc()"
   ]
  },
  {
   "cell_type": "code",
   "execution_count": 26,
   "metadata": {},
   "outputs": [],
   "source": [
    "def connect_remote():\n",
    "    repo_name=readfunc()\n",
    "    print(emoji.emojize(\"Connecting to your remote directory...:lying_face:\"))\n",
    "    os.system(\"{} {}{}.git\".format(remote, user_repo_link, repo_name))\n",
    "    print(repo_name)"
   ]
  },
  {
   "cell_type": "code",
   "execution_count": 27,
   "metadata": {},
   "outputs": [
    {
     "output_type": "stream",
     "name": "stdout",
     "text": "Connecting to your remote directory...🤥\ntest\n"
    }
   ],
   "source": [
    "connect_remote()"
   ]
  },
  {
   "cell_type": "code",
   "execution_count": null,
   "metadata": {},
   "outputs": [],
   "source": []
  }
 ],
 "metadata": {
  "language_info": {
   "codemirror_mode": {
    "name": "ipython",
    "version": 3
   },
   "file_extension": ".py",
   "mimetype": "text/x-python",
   "name": "python",
   "nbconvert_exporter": "python",
   "pygments_lexer": "ipython3",
   "version": "3.7.7-final"
  },
  "orig_nbformat": 2,
  "kernelspec": {
   "name": "python37764bitd29bd0382c2b429da7c64490b04657a5",
   "display_name": "Python 3.7.7 64-bit"
  }
 },
 "nbformat": 4,
 "nbformat_minor": 2
}